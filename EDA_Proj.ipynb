{
 "cells": [
  {
   "cell_type": "code",
   "execution_count": 1,
   "id": "697d15d1-4e04-4993-9c33-fbf671a643c4",
   "metadata": {},
   "outputs": [],
   "source": [
    "import pandas as pd"
   ]
  },
  {
   "cell_type": "code",
   "execution_count": 5,
   "id": "edf87d0f-86ae-4e95-b70c-811ac9b52402",
   "metadata": {},
   "outputs": [
    {
     "data": {
      "text/plain": [
       "'/Users/Vijju/downloads/Projects'"
      ]
     },
     "execution_count": 5,
     "metadata": {},
     "output_type": "execute_result"
    }
   ],
   "source": [
    "import os\n",
    "os.path.expanduser(\"~/downloads/Projects\")"
   ]
  },
  {
   "cell_type": "code",
   "execution_count": 2,
   "id": "3d150531-9f53-40d8-8346-33c7bef44e40",
   "metadata": {},
   "outputs": [
    {
     "data": {
      "text/plain": [
       "'2.1.4'"
      ]
     },
     "execution_count": 2,
     "metadata": {},
     "output_type": "execute_result"
    }
   ],
   "source": [
    "pd.__version__"
   ]
  },
  {
   "cell_type": "code",
   "execution_count": 3,
   "id": "d3ed2ffc-045d-472f-8665-78feb12c86ae",
   "metadata": {},
   "outputs": [],
   "source": [
    "import os\n",
    "emp = pd.read_excel(os.path.expanduser('~/downloads/Rawdata.xlsx'))"
   ]
  },
  {
   "cell_type": "code",
   "execution_count": 4,
   "id": "bbb4047c-56fe-457f-9261-69f6d750d3e9",
   "metadata": {},
   "outputs": [
    {
     "data": {
      "text/html": [
       "<div>\n",
       "<style scoped>\n",
       "    .dataframe tbody tr th:only-of-type {\n",
       "        vertical-align: middle;\n",
       "    }\n",
       "\n",
       "    .dataframe tbody tr th {\n",
       "        vertical-align: top;\n",
       "    }\n",
       "\n",
       "    .dataframe thead th {\n",
       "        text-align: right;\n",
       "    }\n",
       "</style>\n",
       "<table border=\"1\" class=\"dataframe\">\n",
       "  <thead>\n",
       "    <tr style=\"text-align: right;\">\n",
       "      <th></th>\n",
       "      <th>Name</th>\n",
       "      <th>Domain</th>\n",
       "      <th>Age</th>\n",
       "      <th>Location</th>\n",
       "      <th>Salary</th>\n",
       "      <th>Exp</th>\n",
       "    </tr>\n",
       "  </thead>\n",
       "  <tbody>\n",
       "    <tr>\n",
       "      <th>0</th>\n",
       "      <td>Mike</td>\n",
       "      <td>Datascience#$</td>\n",
       "      <td>34 years</td>\n",
       "      <td>Mumbai</td>\n",
       "      <td>5^00#0</td>\n",
       "      <td>2+</td>\n",
       "    </tr>\n",
       "    <tr>\n",
       "      <th>1</th>\n",
       "      <td>Teddy^</td>\n",
       "      <td>Testing</td>\n",
       "      <td>45' yr</td>\n",
       "      <td>Bangalore</td>\n",
       "      <td>10%%000</td>\n",
       "      <td>&lt;3</td>\n",
       "    </tr>\n",
       "    <tr>\n",
       "      <th>2</th>\n",
       "      <td>Uma#r</td>\n",
       "      <td>Dataanalyst^^#</td>\n",
       "      <td>NaN</td>\n",
       "      <td>NaN</td>\n",
       "      <td>1$5%000</td>\n",
       "      <td>4&gt; yrs</td>\n",
       "    </tr>\n",
       "    <tr>\n",
       "      <th>3</th>\n",
       "      <td>Jane</td>\n",
       "      <td>Ana^^lytics</td>\n",
       "      <td>NaN</td>\n",
       "      <td>Hyderbad</td>\n",
       "      <td>2000^0</td>\n",
       "      <td>NaN</td>\n",
       "    </tr>\n",
       "    <tr>\n",
       "      <th>4</th>\n",
       "      <td>Uttam*</td>\n",
       "      <td>Statistics</td>\n",
       "      <td>67-yr</td>\n",
       "      <td>NaN</td>\n",
       "      <td>30000-</td>\n",
       "      <td>5+ year</td>\n",
       "    </tr>\n",
       "    <tr>\n",
       "      <th>5</th>\n",
       "      <td>Kim</td>\n",
       "      <td>NLP</td>\n",
       "      <td>55yr</td>\n",
       "      <td>Delhi</td>\n",
       "      <td>6000^$0</td>\n",
       "      <td>10+</td>\n",
       "    </tr>\n",
       "  </tbody>\n",
       "</table>\n",
       "</div>"
      ],
      "text/plain": [
       "     Name          Domain       Age   Location   Salary      Exp\n",
       "0    Mike   Datascience#$  34 years     Mumbai   5^00#0       2+\n",
       "1  Teddy^         Testing    45' yr  Bangalore  10%%000       <3\n",
       "2   Uma#r  Dataanalyst^^#       NaN        NaN  1$5%000   4> yrs\n",
       "3    Jane     Ana^^lytics       NaN   Hyderbad   2000^0      NaN\n",
       "4  Uttam*      Statistics     67-yr        NaN   30000-  5+ year\n",
       "5     Kim             NLP      55yr      Delhi  6000^$0      10+"
      ]
     },
     "execution_count": 4,
     "metadata": {},
     "output_type": "execute_result"
    }
   ],
   "source": [
    "emp"
   ]
  },
  {
   "cell_type": "code",
   "execution_count": null,
   "id": "a29b8ee1-d4c7-46c6-bbc1-2e7cbc6a0e76",
   "metadata": {},
   "outputs": [],
   "source": [
    "id(emp)"
   ]
  },
  {
   "cell_type": "code",
   "execution_count": null,
   "id": "416d7aec-c075-4b0c-a273-084cbd0b1d7d",
   "metadata": {},
   "outputs": [],
   "source": [
    "emp.columns"
   ]
  },
  {
   "cell_type": "code",
   "execution_count": null,
   "id": "678593e9-afc4-435c-878a-8b2348277f3e",
   "metadata": {},
   "outputs": [],
   "source": [
    "emp.shape"
   ]
  },
  {
   "cell_type": "code",
   "execution_count": null,
   "id": "dace1553-626b-4c4b-a201-baa54445e428",
   "metadata": {},
   "outputs": [],
   "source": [
    "emp.describe()"
   ]
  },
  {
   "cell_type": "code",
   "execution_count": null,
   "id": "2c615471-45da-4375-8bec-f11218f3da4e",
   "metadata": {},
   "outputs": [],
   "source": [
    "emp.head()"
   ]
  },
  {
   "cell_type": "code",
   "execution_count": null,
   "id": "bd545d71-55c0-44b2-8abc-b0f797c09207",
   "metadata": {},
   "outputs": [],
   "source": [
    "emp.tail()"
   ]
  },
  {
   "cell_type": "code",
   "execution_count": null,
   "id": "68739885-a282-48a9-9a80-032fea76da55",
   "metadata": {},
   "outputs": [],
   "source": [
    "emp.info()"
   ]
  },
  {
   "cell_type": "code",
   "execution_count": null,
   "id": "868f3775-98ff-4cf7-94a0-a5b1167de39a",
   "metadata": {},
   "outputs": [],
   "source": [
    "emp.isnull()"
   ]
  },
  {
   "cell_type": "code",
   "execution_count": null,
   "id": "8e71c3d9-20c2-486d-9b0c-8799179e45d4",
   "metadata": {},
   "outputs": [],
   "source": [
    "emp.isna() # isnull ==isna"
   ]
  },
  {
   "cell_type": "code",
   "execution_count": null,
   "id": "2317aa1e-2a9b-4c35-af7d-66cb55b739d0",
   "metadata": {},
   "outputs": [],
   "source": [
    "emp.isnull().sum()"
   ]
  },
  {
   "cell_type": "markdown",
   "id": "ec41bc03-cccf-4790-bf41-e1c297fd6413",
   "metadata": {},
   "source": [
    "# Data Cleaning or Data Clensing"
   ]
  },
  {
   "cell_type": "code",
   "execution_count": null,
   "id": "1e6471f5-7745-4478-979e-3b5d93fe3ebb",
   "metadata": {},
   "outputs": [],
   "source": [
    "emp['Name']"
   ]
  },
  {
   "cell_type": "code",
   "execution_count": null,
   "id": "b65eecce-6cba-4752-95e9-f8e381b44728",
   "metadata": {},
   "outputs": [],
   "source": [
    "emp['Name'] = emp['Name'].str.replace(r'\\W','',regex=True) # \\w = non word characters"
   ]
  },
  {
   "cell_type": "code",
   "execution_count": null,
   "id": "0ffac7f3-30dd-452f-ab99-719aacfe3310",
   "metadata": {},
   "outputs": [],
   "source": [
    "emp['Name']"
   ]
  },
  {
   "cell_type": "code",
   "execution_count": null,
   "id": "bb94c002-ce61-4edb-8061-1098ab78bfae",
   "metadata": {},
   "outputs": [],
   "source": [
    "emp['Domain'] = emp['Domain'].str.replace(r'\\W','',regex=True)"
   ]
  },
  {
   "cell_type": "code",
   "execution_count": null,
   "id": "fa2a477d-95b8-4b3c-8c46-098791be6941",
   "metadata": {},
   "outputs": [],
   "source": [
    "emp['Domain']"
   ]
  },
  {
   "cell_type": "code",
   "execution_count": null,
   "id": "243f6f65-35eb-4f4d-a58d-59e170ccb516",
   "metadata": {},
   "outputs": [],
   "source": [
    "emp['Age'] = emp['Age'].str.replace(r'\\W','',regex=True)"
   ]
  },
  {
   "cell_type": "code",
   "execution_count": null,
   "id": "c0fe1281-e91a-4bd7-93a3-5b2dffb4c3f4",
   "metadata": {},
   "outputs": [],
   "source": [
    "emp['Age']"
   ]
  },
  {
   "cell_type": "code",
   "execution_count": null,
   "id": "54db2699-0a3b-4069-83ba-7e821bc6fb5f",
   "metadata": {},
   "outputs": [],
   "source": [
    "emp['Age'] =emp['Age'].str.extract('(\\d+)')  # \\d+ is extract number"
   ]
  },
  {
   "cell_type": "code",
   "execution_count": null,
   "id": "33b7d1a8-2089-412f-92eb-cb8ebecec119",
   "metadata": {},
   "outputs": [],
   "source": [
    "emp['Age']"
   ]
  },
  {
   "cell_type": "code",
   "execution_count": null,
   "id": "634a35eb-2c75-42d4-8abd-9a646879a435",
   "metadata": {},
   "outputs": [],
   "source": [
    "emp['Location'] = emp['Location'].str.replace(r'\\W','',regex=True)"
   ]
  },
  {
   "cell_type": "code",
   "execution_count": null,
   "id": "f73cd87a-7d5e-444c-bec0-735702654c62",
   "metadata": {},
   "outputs": [],
   "source": [
    "emp['Location']"
   ]
  },
  {
   "cell_type": "code",
   "execution_count": null,
   "id": "82cfa4aa-809e-42b9-b7cc-e1deeb75b42e",
   "metadata": {},
   "outputs": [],
   "source": [
    "emp['Salary'] = emp['Salary'].str.replace(r'\\W','',regex=True)"
   ]
  },
  {
   "cell_type": "code",
   "execution_count": null,
   "id": "e8176514-0a6a-47f9-b47d-0280ca34e12d",
   "metadata": {},
   "outputs": [],
   "source": [
    "emp['Salary']"
   ]
  },
  {
   "cell_type": "code",
   "execution_count": null,
   "id": "bf725267-ffd0-4409-b865-db6fd73da7f8",
   "metadata": {},
   "outputs": [],
   "source": [
    "emp['Exp']=emp['Exp'].str.replace(r'\\W','',regex=True)"
   ]
  },
  {
   "cell_type": "code",
   "execution_count": null,
   "id": "aabcc8f1-24c3-48a1-bae2-3255dd737d3a",
   "metadata": {},
   "outputs": [],
   "source": [
    "emp['Exp']"
   ]
  },
  {
   "cell_type": "code",
   "execution_count": null,
   "id": "b534e93d-2e92-49d1-8bb6-c0096f49b2b3",
   "metadata": {},
   "outputs": [],
   "source": [
    "emp['Exp'] =emp['Exp'].str.extract('(\\d+)')"
   ]
  },
  {
   "cell_type": "code",
   "execution_count": null,
   "id": "037a8386-6ad4-43f0-9f30-27556b0dc752",
   "metadata": {},
   "outputs": [],
   "source": [
    "emp['Exp']"
   ]
  },
  {
   "cell_type": "code",
   "execution_count": null,
   "id": "6fcfbc09-ead7-455e-9636-f04860486898",
   "metadata": {},
   "outputs": [],
   "source": [
    "clean_data = emp.copy()"
   ]
  },
  {
   "cell_type": "markdown",
   "id": "fff0e42a-9576-4802-b242-8bdd70c2c025",
   "metadata": {},
   "source": [
    "# EDA Techniques"
   ]
  },
  {
   "cell_type": "code",
   "execution_count": null,
   "id": "8d922529-cc0d-45eb-8ae1-58c4b3562985",
   "metadata": {},
   "outputs": [],
   "source": [
    "clean_data.isnull().sum()"
   ]
  },
  {
   "cell_type": "code",
   "execution_count": null,
   "id": "d9667d92-80ce-4f83-aebe-2eed6a17d1b9",
   "metadata": {},
   "outputs": [],
   "source": [
    "clean_data['Age']"
   ]
  },
  {
   "cell_type": "code",
   "execution_count": null,
   "id": "328e76ef-e1fa-4f70-b794-4f6030bb03bd",
   "metadata": {},
   "outputs": [],
   "source": [
    "import numpy as np"
   ]
  },
  {
   "cell_type": "code",
   "execution_count": null,
   "id": "d09f65ff-0d6e-4f02-9e0c-1b7c353c898b",
   "metadata": {},
   "outputs": [],
   "source": [
    "clean_data['Age'] = clean_data['Age'].fillna(np.mean(pd.to_numeric(clean_data['Age'])))"
   ]
  },
  {
   "cell_type": "code",
   "execution_count": null,
   "id": "8a2d2308-c3a5-4ed2-820d-ad9c2d95799b",
   "metadata": {},
   "outputs": [],
   "source": [
    "clean_data['Age']"
   ]
  },
  {
   "cell_type": "code",
   "execution_count": null,
   "id": "099ffb64-2c66-46c3-9fa2-32743480f97e",
   "metadata": {},
   "outputs": [],
   "source": [
    "clean_data['Exp']"
   ]
  },
  {
   "cell_type": "code",
   "execution_count": null,
   "id": "64de4995-26cc-442f-9e9f-f42141316b8f",
   "metadata": {},
   "outputs": [],
   "source": [
    "clean_data['Exp'] = clean_data['Exp'].fillna(np.mean(pd.to_numeric(clean_data['Exp'])))"
   ]
  },
  {
   "cell_type": "code",
   "execution_count": null,
   "id": "ab67b4b1-3066-4643-9d08-ade7ac635077",
   "metadata": {},
   "outputs": [],
   "source": [
    "clean_data['Exp']"
   ]
  },
  {
   "cell_type": "code",
   "execution_count": null,
   "id": "a610896a-ffa6-4d3a-8715-4f9538234712",
   "metadata": {},
   "outputs": [],
   "source": [
    "clean_data['Location'].isnull().sum()"
   ]
  },
  {
   "cell_type": "code",
   "execution_count": null,
   "id": "411df765-5bbe-4114-b853-f6aab936d4ab",
   "metadata": {},
   "outputs": [],
   "source": [
    "clean_data['Location'] = clean_data['Location'].fillna(clean_data['Location'].mode()[0])"
   ]
  },
  {
   "cell_type": "code",
   "execution_count": null,
   "id": "c6dfd6ff-5ad5-4cff-9e2d-07c31d0be0fc",
   "metadata": {},
   "outputs": [],
   "source": [
    "clean_data['Location']"
   ]
  },
  {
   "cell_type": "code",
   "execution_count": null,
   "id": "51c72046-beea-46b2-921c-5e11f7d7a4a4",
   "metadata": {},
   "outputs": [],
   "source": [
    "clean_data"
   ]
  },
  {
   "cell_type": "code",
   "execution_count": null,
   "id": "9d3e9681-06d0-47cf-9cf2-082e76f77c88",
   "metadata": {},
   "outputs": [],
   "source": [
    "clean_data.info()"
   ]
  },
  {
   "cell_type": "code",
   "execution_count": null,
   "id": "415cfba9-c2d6-4d1c-a341-b5a59faede0b",
   "metadata": {},
   "outputs": [],
   "source": [
    "clean_data['Age'] = clean_data['Age'].astype(int)"
   ]
  },
  {
   "cell_type": "code",
   "execution_count": null,
   "id": "7590b90b-f45c-4628-8a32-918f152e84bf",
   "metadata": {},
   "outputs": [],
   "source": [
    "clean_data.info()"
   ]
  },
  {
   "cell_type": "code",
   "execution_count": null,
   "id": "63b91429-c593-4c65-a948-e55bc77244c6",
   "metadata": {},
   "outputs": [],
   "source": [
    "clean_data['Salary'] = clean_data['Salary'].astype(int)"
   ]
  },
  {
   "cell_type": "code",
   "execution_count": null,
   "id": "c3091fb8-18e5-4b55-82c6-781a5fa3c014",
   "metadata": {},
   "outputs": [],
   "source": [
    "clean_data['Exp'] = clean_data['Exp'].astype(int)"
   ]
  },
  {
   "cell_type": "code",
   "execution_count": null,
   "id": "95a01a57-59d2-4c1e-9f8b-de28874bf3af",
   "metadata": {},
   "outputs": [],
   "source": [
    "clean_data.info()"
   ]
  },
  {
   "cell_type": "code",
   "execution_count": null,
   "id": "f575e8c6-f0eb-4c1c-a545-76ce0d39673f",
   "metadata": {},
   "outputs": [],
   "source": [
    "clean_data['Name'] = clean_data['Name'].astype('category')"
   ]
  },
  {
   "cell_type": "code",
   "execution_count": null,
   "id": "7870314c-7527-43b0-b6a6-94a1823b8b9d",
   "metadata": {},
   "outputs": [],
   "source": [
    "clean_data['Location'] = clean_data['Location'].astype('category')"
   ]
  },
  {
   "cell_type": "code",
   "execution_count": null,
   "id": "f2f92d12-d790-4ea1-9b64-609385808b26",
   "metadata": {},
   "outputs": [],
   "source": [
    "clean_data['Domain'] = clean_data['Domain'].astype('category')"
   ]
  },
  {
   "cell_type": "code",
   "execution_count": null,
   "id": "6689af84-b32b-4fbb-8ee6-5439da285a3a",
   "metadata": {},
   "outputs": [],
   "source": [
    "clean_data.info()"
   ]
  },
  {
   "cell_type": "code",
   "execution_count": null,
   "id": "6bd533a5-e5d4-4f96-a0fe-86e8483e6ccb",
   "metadata": {},
   "outputs": [],
   "source": [
    "clean_data = clean_data.drop('salary')"
   ]
  },
  {
   "cell_type": "code",
   "execution_count": null,
   "id": "6d591ab8-6655-4921-9f12-a743e55c94d2",
   "metadata": {},
   "outputs": [],
   "source": [
    "clean_data.to_csv('clean_data.csv')"
   ]
  },
  {
   "cell_type": "code",
   "execution_count": null,
   "id": "22e8e8b5-1c7f-46ea-96fc-b600b968dd08",
   "metadata": {},
   "outputs": [],
   "source": [
    "import os\n",
    "os.getcwd()"
   ]
  },
  {
   "cell_type": "code",
   "execution_count": null,
   "id": "24adac35-28a5-4752-ae59-29fc02df9fe6",
   "metadata": {},
   "outputs": [],
   "source": [
    "# EDA"
   ]
  },
  {
   "cell_type": "code",
   "execution_count": null,
   "id": "fd3c7499-8f20-4505-9059-8cdc4a01fb0c",
   "metadata": {},
   "outputs": [],
   "source": [
    "import matplotlib.pyplot as plt\n",
    "import seaborn as sns"
   ]
  },
  {
   "cell_type": "code",
   "execution_count": null,
   "id": "d0fd6dbb-3399-427c-a48e-fc62cc6548e8",
   "metadata": {},
   "outputs": [],
   "source": [
    "import warnings\n",
    "warnings.filterwarnings('ignore')"
   ]
  },
  {
   "cell_type": "code",
   "execution_count": null,
   "id": "d0d23dbd-2f64-4208-829e-1ad3e3308495",
   "metadata": {},
   "outputs": [],
   "source": [
    "clean_data['Salary']"
   ]
  },
  {
   "cell_type": "code",
   "execution_count": null,
   "id": "2eb0af67-0168-414f-b09e-44426c58ceca",
   "metadata": {},
   "outputs": [],
   "source": [
    "vis1 = sns.distplot(clean_data['Salary']) # univariate analysis"
   ]
  },
  {
   "cell_type": "code",
   "execution_count": null,
   "id": "8d8c4e7a-7400-4959-a283-1fa5f554279e",
   "metadata": {},
   "outputs": [],
   "source": [
    "vis2 =  plt.hist(clean_data['Salary'])"
   ]
  },
  {
   "cell_type": "code",
   "execution_count": null,
   "id": "c51bf432-93bc-4367-a517-a4f2210cd846",
   "metadata": {},
   "outputs": [],
   "source": [
    "vis4 = sns.lmplot(data=clean_data, x = 'Exp', y= 'Salary')"
   ]
  },
  {
   "cell_type": "code",
   "execution_count": null,
   "id": "9e790006-cd55-4b62-8faa-1533f30a9295",
   "metadata": {},
   "outputs": [],
   "source": [
    "vis5 = sns.lmplot(data=clean_data, x= 'Exp',y='Salary',fit_reg = False)"
   ]
  },
  {
   "cell_type": "code",
   "execution_count": null,
   "id": "bda6d1da-bab4-4448-8ea2-89e6150c1d1b",
   "metadata": {},
   "outputs": [],
   "source": [
    "clean_data[:]"
   ]
  },
  {
   "cell_type": "code",
   "execution_count": null,
   "id": "587fd1bb-7985-44ff-b9d9-29f4ead03fe2",
   "metadata": {},
   "outputs": [],
   "source": [
    "clean_data[0:6:2]"
   ]
  },
  {
   "cell_type": "code",
   "execution_count": null,
   "id": "c042827f-64a9-43b7-adb4-d1944d4bcfb5",
   "metadata": {},
   "outputs": [],
   "source": [
    "clean_data.columns"
   ]
  },
  {
   "cell_type": "code",
   "execution_count": null,
   "id": "3eda0120-49f3-4c41-a240-2b7bc8fe4a7f",
   "metadata": {},
   "outputs": [],
   "source": [
    "X_iv = clean_data[['Name','Domain','Location','Exp']]"
   ]
  },
  {
   "cell_type": "code",
   "execution_count": null,
   "id": "7eb2dfa3-b68b-44cd-a925-8c08743618f0",
   "metadata": {},
   "outputs": [],
   "source": [
    "Y_iv = clean_data[['Salary']]"
   ]
  },
  {
   "cell_type": "code",
   "execution_count": null,
   "id": "675ff11d-b59d-4ed1-a654-614dd8183177",
   "metadata": {},
   "outputs": [],
   "source": [
    "imputation = pd.get_dummies(clean_data,dtype=int)"
   ]
  },
  {
   "cell_type": "code",
   "execution_count": null,
   "id": "a6cac614-6fde-4c68-86d4-1e3dcb71448c",
   "metadata": {},
   "outputs": [],
   "source": [
    "clean_data"
   ]
  },
  {
   "cell_type": "code",
   "execution_count": null,
   "id": "5cbb7c93-f200-4179-a2f4-4f209ce6e863",
   "metadata": {},
   "outputs": [],
   "source": [
    "imputation"
   ]
  },
  {
   "cell_type": "code",
   "execution_count": null,
   "id": "38a266a2-cbf5-48ca-9e66-84b09254691b",
   "metadata": {},
   "outputs": [],
   "source": [
    "len(clean_data)"
   ]
  },
  {
   "cell_type": "code",
   "execution_count": null,
   "id": "90314bff-f400-4e08-bcf4-2f0f00ec3b7a",
   "metadata": {},
   "outputs": [],
   "source": [
    "imputation.columns"
   ]
  },
  {
   "cell_type": "code",
   "execution_count": null,
   "id": "3d542f91-c1b7-42d1-b778-7de73aadc1aa",
   "metadata": {},
   "outputs": [],
   "source": []
  }
 ],
 "metadata": {
  "kernelspec": {
   "display_name": "Python 3 (ipykernel)",
   "language": "python",
   "name": "python3"
  },
  "language_info": {
   "codemirror_mode": {
    "name": "ipython",
    "version": 3
   },
   "file_extension": ".py",
   "mimetype": "text/x-python",
   "name": "python",
   "nbconvert_exporter": "python",
   "pygments_lexer": "ipython3",
   "version": "3.9.18"
  }
 },
 "nbformat": 4,
 "nbformat_minor": 5
}
