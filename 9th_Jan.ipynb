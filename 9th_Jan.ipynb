{
 "cells": [
  {
   "cell_type": "code",
   "execution_count": 2,
   "id": "b601922d-3564-43fb-ac1e-c308f0896e80",
   "metadata": {},
   "outputs": [
    {
     "data": {
      "text/plain": [
       "2300.0"
      ]
     },
     "execution_count": 2,
     "metadata": {},
     "output_type": "execute_result"
    }
   ],
   "source": [
    "f4= 2.3e3\n",
    "f4"
   ]
  },
  {
   "cell_type": "code",
   "execution_count": 3,
   "id": "dc8f3d7d-4b5d-4b9f-9a81-503909242723",
   "metadata": {},
   "outputs": [
    {
     "name": "stdout",
     "output_type": "stream",
     "text": [
      "2300.0\n"
     ]
    }
   ],
   "source": [
    "print(f4)"
   ]
  },
  {
   "cell_type": "code",
   "execution_count": 4,
   "id": "e6c37845-f18c-4461-9028-da84f2c7fc87",
   "metadata": {},
   "outputs": [
    {
     "data": {
      "text/plain": [
       "2"
      ]
     },
     "execution_count": 4,
     "metadata": {},
     "output_type": "execute_result"
    }
   ],
   "source": [
    "True + True"
   ]
  },
  {
   "cell_type": "code",
   "execution_count": 5,
   "id": "ed4c0e66-b908-486a-87f0-2f9ea8ae7015",
   "metadata": {},
   "outputs": [
    {
     "data": {
      "text/plain": [
       "1"
      ]
     },
     "execution_count": 5,
     "metadata": {},
     "output_type": "execute_result"
    }
   ],
   "source": [
    "True + False"
   ]
  },
  {
   "cell_type": "code",
   "execution_count": 6,
   "id": "b71610ae-0157-4473-af77-6cd879379ea0",
   "metadata": {},
   "outputs": [],
   "source": [
    "# complex data type"
   ]
  },
  {
   "cell_type": "code",
   "execution_count": 7,
   "id": "a95c3196-d3a6-434a-abb0-d767b5f82ec6",
   "metadata": {},
   "outputs": [],
   "source": [
    "a = 10 + 20j\n",
    "\n",
    "# 10 is called real part and 20 is called imaginary part"
   ]
  },
  {
   "cell_type": "code",
   "execution_count": 9,
   "id": "acb8ebf7-94aa-4f2f-833d-68716a5b4ac3",
   "metadata": {},
   "outputs": [
    {
     "data": {
      "text/plain": [
       "20.0"
      ]
     },
     "execution_count": 9,
     "metadata": {},
     "output_type": "execute_result"
    }
   ],
   "source": [
    "a.imag"
   ]
  },
  {
   "cell_type": "code",
   "execution_count": null,
   "id": "1f7710b9-ef0c-46a7-9ec6-4e27746916df",
   "metadata": {},
   "outputs": [],
   "source": []
  }
 ],
 "metadata": {
  "kernelspec": {
   "display_name": "Python 3 (ipykernel)",
   "language": "python",
   "name": "python3"
  },
  "language_info": {
   "codemirror_mode": {
    "name": "ipython",
    "version": 3
   },
   "file_extension": ".py",
   "mimetype": "text/x-python",
   "name": "python",
   "nbconvert_exporter": "python",
   "pygments_lexer": "ipython3",
   "version": "3.9.18"
  }
 },
 "nbformat": 4,
 "nbformat_minor": 5
}
